{
  "nbformat": 4,
  "nbformat_minor": 0,
  "metadata": {
    "colab": {
      "provenance": [],
      "gpuType": "T4",
      "authorship_tag": "ABX9TyOo34DcbsuZi6Lp1L2lF7MD",
      "include_colab_link": true
    },
    "kernelspec": {
      "name": "python3",
      "display_name": "Python 3"
    },
    "language_info": {
      "name": "python"
    },
    "accelerator": "GPU"
  },
  "cells": [
    {
      "cell_type": "markdown",
      "metadata": {
        "id": "view-in-github",
        "colab_type": "text"
      },
      "source": [
        "<a href=\"https://colab.research.google.com/github/tonytarizzo/NeverLateX/blob/main/Copy_of_STABILO_new.ipynb\" target=\"_parent\"><img src=\"https://colab.research.google.com/assets/colab-badge.svg\" alt=\"Open In Colab\"/></a>"
      ]
    },
    {
      "cell_type": "code",
      "source": [
        "# Import necessary libraries\n",
        "import numpy as np\n",
        "import tensorflow as tf\n",
        "from sklearn.model_selection import train_test_split\n",
        "from sklearn.preprocessing import LabelBinarizer\n",
        "from sklearn.metrics import classification_report, confusion_matrix\n",
        "import matplotlib.pyplot as plt\n",
        "import seaborn as sns\n",
        "from tensorflow.keras.utils import plot_model"
      ],
      "metadata": {
        "id": "MoesULMv-ihT"
      },
      "execution_count": null,
      "outputs": []
    },
    {
      "cell_type": "code",
      "source": [
        "# Mount Google Drive\n",
        "from google.colab import drive\n",
        "drive.mount('/content/drive')"
      ],
      "metadata": {
        "colab": {
          "base_uri": "https://localhost:8080/"
        },
        "id": "K1lzhpy4-oC7",
        "outputId": "ad7329f2-5af7-4e68-a663-99cc508eb078"
      },
      "execution_count": null,
      "outputs": [
        {
          "output_type": "stream",
          "name": "stdout",
          "text": [
            "Mounted at /content/drive\n"
          ]
        }
      ]
    },
    {
      "cell_type": "code",
      "source": [
        "# Load Data from Google Drive\n",
        "data_path = \"/content/drive/My Drive/NeverLaTeX/AML/onhw-chars_2021-06-30/onhw2_both_indep_0\"\n",
        "\n",
        "X_train_path = f'{data_path}/X_train.npy'\n",
        "X_test_path = f'{data_path}/X_test.npy'\n",
        "y_train_path = f'{data_path}/y_train.npy'\n",
        "y_test_path = f'{data_path}/y_test.npy'"
      ],
      "metadata": {
        "id": "9hFE5xv4_Hfa"
      },
      "execution_count": null,
      "outputs": []
    },
    {
      "cell_type": "code",
      "source": [
        "# Load the data\n",
        "import numpy as np\n",
        "\n",
        "X_train = np.load(X_train_path, allow_pickle=True)\n",
        "X_test = np.load(X_test_path, allow_pickle=True)\n",
        "y_train = np.load(y_train_path, allow_pickle=True)\n",
        "y_test = np.load(y_test_path, allow_pickle=True)"
      ],
      "metadata": {
        "id": "HXDpgxNY_45l"
      },
      "execution_count": null,
      "outputs": []
    },
    {
      "cell_type": "code",
      "source": [
        "print(f\"X_train shape: {X_train.shape}\")\n",
        "print(f\"X_test shape: {X_test.shape}\")\n",
        "print(f\"y_train shape: {y_train.shape}\")\n",
        "print(f\"y_test shape: {y_test.shape}\")"
      ],
      "metadata": {
        "colab": {
          "base_uri": "https://localhost:8080/"
        },
        "id": "B0-DdDOpACHK",
        "outputId": "127ba3e8-7511-4a9b-ba62-57e3d6ef8593"
      },
      "execution_count": null,
      "outputs": [
        {
          "output_type": "stream",
          "name": "stdout",
          "text": [
            "X_train shape: (23319,)\n",
            "X_test shape: (7956,)\n",
            "y_train shape: (23319,)\n",
            "y_test shape: (7956,)\n"
          ]
        }
      ]
    },
    {
      "cell_type": "code",
      "source": [
        "from scipy.signal import resample\n",
        "\n",
        "series_names = [\n",
        "      'acc1x',\n",
        "      'acc1y',\n",
        "      'acc1z',\n",
        "      'acc2x',\n",
        "      'acc2y',\n",
        "      'acc2z',\n",
        "      'gyrox',\n",
        "      'gyroy',\n",
        "      'gyroz',\n",
        "      'magnx',\n",
        "      'magny',\n",
        "      'magnz',\n",
        "      'force',\n",
        "  ]\n",
        "\n",
        "def get_resampled_data(X, y, target_len=60):\n",
        "  data_resampled = dict(zip(series_names, [list() for x in range(0, len(series_names))]))\n",
        "  new_y = []\n",
        "  for item_idx, item in enumerate(X):\n",
        "    #print(item_idx)\n",
        "    if item.shape[0] == 0:\n",
        "      continue\n",
        "    for series_idx, series in enumerate(series_names):\n",
        "      data_resampled[series].append(resample(item[:, series_idx], target_len))\n",
        "    new_y.append(y[item_idx])\n",
        "  stacked_data = {}\n",
        "  for key, value in data_resampled.items():\n",
        "    stacked_data[key] = np.stack(value, axis=0)\n",
        "  return stacked_data, np.array(new_y)\n",
        "\n",
        "def make_pd(X):\n",
        "  new_X = np.concatenate(list(X.values()), axis=1)\n",
        "  return new_X\n"
      ],
      "metadata": {
        "id": "9tEWzl7uAE5X"
      },
      "execution_count": null,
      "outputs": []
    },
    {
      "cell_type": "code",
      "source": [
        "X_train_resampled, y_train_resampled = get_resampled_data(X_train, y_train)\n",
        "X_test_resampled, y_test_resampled = get_resampled_data(X_test, y_test)\n",
        "\n",
        "X_train_concated = make_pd(X_train_resampled)\n",
        "X_test_concated = make_pd(X_test_resampled)"
      ],
      "metadata": {
        "id": "R-RVNB1TAFuo"
      },
      "execution_count": null,
      "outputs": []
    },
    {
      "cell_type": "code",
      "source": [
        "# Reshape concatenated data to (samples, timesteps, features)\n",
        "timesteps = 60  # Target length during resampling\n",
        "features = 13   # Number of original series\n",
        "\n",
        "X_train = X_train_concated.reshape(X_train_concated.shape[0], timesteps, features)\n",
        "X_test = X_test_concated.reshape(X_test_concated.shape[0], timesteps, features)\n",
        "\n",
        "# Define input shape for the model\n",
        "input_shape = (X_train.shape[1], X_train.shape[2])  # (timesteps, features)\n",
        "\n",
        "print(\"X_train shape:\", X_train.shape)\n",
        "print(\"X_test shape:\", X_test.shape)\n",
        "print(\"Input shape for models:\", input_shape)\n"
      ],
      "metadata": {
        "colab": {
          "base_uri": "https://localhost:8080/"
        },
        "id": "c74DICPcJ3z5",
        "outputId": "c8ee577f-2c93-4718-d02b-7a35322432e0"
      },
      "execution_count": null,
      "outputs": [
        {
          "output_type": "stream",
          "name": "stdout",
          "text": [
            "X_train shape: (23316, 60, 13)\n",
            "X_test shape: (7956, 60, 13)\n",
            "Input shape for models: (60, 13)\n"
          ]
        }
      ]
    },
    {
      "cell_type": "code",
      "source": [
        "from sklearn.preprocessing import LabelEncoder\n",
        "from tensorflow.keras.utils import to_categorical\n",
        "\n",
        "# Initialize label encoder\n",
        "label_encoder = LabelEncoder()\n",
        "\n",
        "# Fit the encoder on the training and testing labels\n",
        "all_labels = np.concatenate((y_train, y_test))  # Combine train and test labels for consistency\n",
        "label_encoder.fit(all_labels)\n",
        "\n",
        "# Transform the labels\n",
        "y_train_encoded = label_encoder.transform(y_train)\n",
        "y_test_encoded = label_encoder.transform(y_test)\n",
        "\n",
        "print(f\"Classes: {label_encoder.classes_}\")  # Display the mapping of characters to integers\n",
        "\n",
        "# Convert labels to one-hot encoding\n",
        "\n",
        "# Number of classes\n",
        "num_classes = len(label_encoder.classes_)\n",
        "\n",
        "# One-hot encode the labels\n",
        "y_train_categorical = to_categorical(y_train_encoded, num_classes)\n",
        "y_test_categorical = to_categorical(y_test_encoded, num_classes)\n",
        "\n",
        "print(f\"Shape of y_train: {y_train_categorical.shape}\")\n",
        "print(f\"Shape of y_test: {y_test_categorical.shape}\")"
      ],
      "metadata": {
        "colab": {
          "base_uri": "https://localhost:8080/"
        },
        "id": "B-HVK8N5AFrw",
        "outputId": "e87cd3da-d7ac-4171-e412-cb3006cee95a"
      },
      "execution_count": null,
      "outputs": [
        {
          "output_type": "stream",
          "name": "stdout",
          "text": [
            "Classes: ['A' 'B' 'C' 'D' 'E' 'F' 'G' 'H' 'I' 'J' 'K' 'L' 'M' 'N' 'O' 'P' 'Q' 'R'\n",
            " 'S' 'T' 'U' 'V' 'W' 'X' 'Y' 'Z' 'a' 'b' 'c' 'd' 'e' 'f' 'g' 'h' 'i' 'j'\n",
            " 'k' 'l' 'm' 'n' 'o' 'p' 'q' 'r' 's' 't' 'u' 'v' 'w' 'x' 'y' 'z']\n",
            "Shape of y_train: (23319, 52)\n",
            "Shape of y_test: (7956, 52)\n"
          ]
        }
      ]
    },
    {
      "cell_type": "code",
      "source": [
        "# Define CNN Model\n",
        "from tensorflow.keras.models import Sequential\n",
        "from tensorflow.keras.layers import Conv1D, MaxPooling1D, Flatten, Dense, Dropout\n",
        "\n",
        "def build_cnn(input_shape, num_classes):\n",
        "    model = Sequential([\n",
        "        Conv1D(32, kernel_size=3, activation='relu', input_shape=input_shape),\n",
        "        MaxPooling1D(pool_size=2),\n",
        "        Conv1D(64, kernel_size=3, activation='relu'),\n",
        "        MaxPooling1D(pool_size=2),\n",
        "        Flatten(),\n",
        "        Dense(128, activation='relu'),\n",
        "        Dropout(0.5),\n",
        "        Dense(num_classes, activation='softmax')\n",
        "    ])\n",
        "    model.compile(optimizer='adam', loss='categorical_crossentropy', metrics=['accuracy'])\n",
        "    return model"
      ],
      "metadata": {
        "id": "hUDljlEFAFpI"
      },
      "execution_count": null,
      "outputs": []
    },
    {
      "cell_type": "code",
      "source": [
        "# Define CLDNN Model\n",
        "from tensorflow.keras.layers import LSTM, BatchNormalization\n",
        "\n",
        "def build_cldnn(input_shape, num_classes):\n",
        "    model = Sequential([\n",
        "        Conv1D(32, kernel_size=3, activation='relu', input_shape=input_shape),\n",
        "        MaxPooling1D(pool_size=2),\n",
        "        BatchNormalization(),\n",
        "        LSTM(64, return_sequences=True),\n",
        "        Flatten(),\n",
        "        Dense(128, activation='relu'),\n",
        "        Dropout(0.5),\n",
        "        Dense(num_classes, activation='softmax')\n",
        "    ])\n",
        "    model.compile(optimizer='adam', loss='categorical_crossentropy', metrics=['accuracy'])\n",
        "    return model"
      ],
      "metadata": {
        "id": "R28qnuB4AFmC"
      },
      "execution_count": null,
      "outputs": []
    },
    {
      "cell_type": "code",
      "source": [
        "from re import X\n",
        "# Train and Evaluate Models\n",
        "print(X_train_concated.shape)\n",
        "print(X_test_concated.shape)\n",
        "print(y_train_categorical.shape)\n",
        "print(y_test_categorical.shape, \"\\n\")\n",
        "input_shape = (X_train.shape[1], X_train.shape[2])  # Assuming (samples, timesteps, features)\n",
        "\n",
        "# Ensure no empty sequences exist\n",
        "non_empty_indices = [i for i, x in enumerate(X_train) if x.size > 0]\n",
        "X_train = X_train[non_empty_indices]\n",
        "y_train_categorical = y_train_categorical[non_empty_indices]\n",
        "\n",
        "non_empty_indices = [i for i, x in enumerate(X_test) if x.size > 0]\n",
        "X_test = X_test[non_empty_indices]\n",
        "y_test_categorical = y_test_categorical[non_empty_indices]\n",
        "\n",
        "print(X_train.shape)\n",
        "print(X_test.shape)\n",
        "print(y_train_categorical.shape)\n",
        "print(y_test_categorical.shape)\n"
      ],
      "metadata": {
        "colab": {
          "base_uri": "https://localhost:8080/"
        },
        "id": "MtQ8aRwyAFit",
        "outputId": "5e17484b-b11e-4e99-cdb6-aaad852ff4ed"
      },
      "execution_count": null,
      "outputs": [
        {
          "output_type": "stream",
          "name": "stdout",
          "text": [
            "(23316, 780)\n",
            "(7956, 780)\n",
            "(23319, 52)\n",
            "(7956, 52) \n",
            "\n",
            "(23316, 60, 13)\n",
            "(7956, 60, 13)\n",
            "(23316, 52)\n",
            "(7956, 52)\n"
          ]
        }
      ]
    },
    {
      "cell_type": "code",
      "source": [
        "cnn_model = build_cnn(input_shape, num_classes)\n",
        "cldnn_model = build_cldnn(input_shape, num_classes)"
      ],
      "metadata": {
        "colab": {
          "base_uri": "https://localhost:8080/"
        },
        "id": "ryI3l5wUAFVa",
        "outputId": "16d3d120-c8c4-4916-ba7d-41a2d29e36ba"
      },
      "execution_count": null,
      "outputs": [
        {
          "output_type": "stream",
          "name": "stderr",
          "text": [
            "/usr/local/lib/python3.10/dist-packages/keras/src/layers/convolutional/base_conv.py:107: UserWarning: Do not pass an `input_shape`/`input_dim` argument to a layer. When using Sequential models, prefer using an `Input(shape)` object as the first layer in the model instead.\n",
            "  super().__init__(activity_regularizer=activity_regularizer, **kwargs)\n"
          ]
        }
      ]
    },
    {
      "cell_type": "code",
      "source": [
        "# Train CNN\n",
        "cnn_history = cnn_model.fit(X_train, y_train_categorical, epochs=20, batch_size=64, validation_data=(X_test, y_test_categorical), verbose=1)"
      ],
      "metadata": {
        "colab": {
          "base_uri": "https://localhost:8080/"
        },
        "id": "EbvOQHDrMRN6",
        "outputId": "e0baf0e3-61f6-4aed-ae1b-7d651401a8a0"
      },
      "execution_count": null,
      "outputs": [
        {
          "output_type": "stream",
          "name": "stdout",
          "text": [
            "Epoch 1/20\n",
            "\u001b[1m365/365\u001b[0m \u001b[32m━━━━━━━━━━━━━━━━━━━━\u001b[0m\u001b[37m\u001b[0m \u001b[1m12s\u001b[0m 21ms/step - accuracy: 0.0197 - loss: 309.8084 - val_accuracy: 0.0192 - val_loss: 3.9513\n",
            "Epoch 2/20\n",
            "\u001b[1m365/365\u001b[0m \u001b[32m━━━━━━━━━━━━━━━━━━━━\u001b[0m\u001b[37m\u001b[0m \u001b[1m11s\u001b[0m 4ms/step - accuracy: 0.0190 - loss: 3.9520 - val_accuracy: 0.0192 - val_loss: 3.9513\n",
            "Epoch 3/20\n",
            "\u001b[1m365/365\u001b[0m \u001b[32m━━━━━━━━━━━━━━━━━━━━\u001b[0m\u001b[37m\u001b[0m \u001b[1m1s\u001b[0m 4ms/step - accuracy: 0.0180 - loss: 3.9514 - val_accuracy: 0.0192 - val_loss: 3.9513\n",
            "Epoch 4/20\n",
            "\u001b[1m365/365\u001b[0m \u001b[32m━━━━━━━━━━━━━━━━━━━━\u001b[0m\u001b[37m\u001b[0m \u001b[1m2s\u001b[0m 3ms/step - accuracy: 0.0163 - loss: 3.9515 - val_accuracy: 0.0192 - val_loss: 3.9513\n",
            "Epoch 5/20\n",
            "\u001b[1m365/365\u001b[0m \u001b[32m━━━━━━━━━━━━━━━━━━━━\u001b[0m\u001b[37m\u001b[0m \u001b[1m1s\u001b[0m 3ms/step - accuracy: 0.0214 - loss: 3.9514 - val_accuracy: 0.0192 - val_loss: 3.9513\n",
            "Epoch 6/20\n",
            "\u001b[1m365/365\u001b[0m \u001b[32m━━━━━━━━━━━━━━━━━━━━\u001b[0m\u001b[37m\u001b[0m \u001b[1m1s\u001b[0m 3ms/step - accuracy: 0.0189 - loss: 3.9514 - val_accuracy: 0.0192 - val_loss: 3.9512\n",
            "Epoch 7/20\n",
            "\u001b[1m365/365\u001b[0m \u001b[32m━━━━━━━━━━━━━━━━━━━━\u001b[0m\u001b[37m\u001b[0m \u001b[1m1s\u001b[0m 3ms/step - accuracy: 0.0192 - loss: 3.9514 - val_accuracy: 0.0192 - val_loss: 3.9512\n",
            "Epoch 8/20\n",
            "\u001b[1m365/365\u001b[0m \u001b[32m━━━━━━━━━━━━━━━━━━━━\u001b[0m\u001b[37m\u001b[0m \u001b[1m1s\u001b[0m 3ms/step - accuracy: 0.0186 - loss: 3.9515 - val_accuracy: 0.0192 - val_loss: 3.9512\n",
            "Epoch 9/20\n",
            "\u001b[1m365/365\u001b[0m \u001b[32m━━━━━━━━━━━━━━━━━━━━\u001b[0m\u001b[37m\u001b[0m \u001b[1m1s\u001b[0m 3ms/step - accuracy: 0.0204 - loss: 3.9514 - val_accuracy: 0.0192 - val_loss: 3.9512\n",
            "Epoch 10/20\n",
            "\u001b[1m365/365\u001b[0m \u001b[32m━━━━━━━━━━━━━━━━━━━━\u001b[0m\u001b[37m\u001b[0m \u001b[1m1s\u001b[0m 3ms/step - accuracy: 0.0187 - loss: 3.9514 - val_accuracy: 0.0192 - val_loss: 3.9513\n",
            "Epoch 11/20\n",
            "\u001b[1m365/365\u001b[0m \u001b[32m━━━━━━━━━━━━━━━━━━━━\u001b[0m\u001b[37m\u001b[0m \u001b[1m1s\u001b[0m 3ms/step - accuracy: 0.0200 - loss: 3.9514 - val_accuracy: 0.0192 - val_loss: 3.9512\n",
            "Epoch 12/20\n",
            "\u001b[1m365/365\u001b[0m \u001b[32m━━━━━━━━━━━━━━━━━━━━\u001b[0m\u001b[37m\u001b[0m \u001b[1m2s\u001b[0m 4ms/step - accuracy: 0.0172 - loss: 3.9515 - val_accuracy: 0.0192 - val_loss: 3.9512\n",
            "Epoch 13/20\n",
            "\u001b[1m365/365\u001b[0m \u001b[32m━━━━━━━━━━━━━━━━━━━━\u001b[0m\u001b[37m\u001b[0m \u001b[1m1s\u001b[0m 4ms/step - accuracy: 0.0206 - loss: 3.9514 - val_accuracy: 0.0192 - val_loss: 3.9512\n",
            "Epoch 14/20\n",
            "\u001b[1m365/365\u001b[0m \u001b[32m━━━━━━━━━━━━━━━━━━━━\u001b[0m\u001b[37m\u001b[0m \u001b[1m2s\u001b[0m 3ms/step - accuracy: 0.0183 - loss: 3.9514 - val_accuracy: 0.0192 - val_loss: 3.9512\n",
            "Epoch 15/20\n",
            "\u001b[1m365/365\u001b[0m \u001b[32m━━━━━━━━━━━━━━━━━━━━\u001b[0m\u001b[37m\u001b[0m \u001b[1m1s\u001b[0m 3ms/step - accuracy: 0.0173 - loss: 3.9515 - val_accuracy: 0.0192 - val_loss: 3.9512\n",
            "Epoch 16/20\n",
            "\u001b[1m365/365\u001b[0m \u001b[32m━━━━━━━━━━━━━━━━━━━━\u001b[0m\u001b[37m\u001b[0m \u001b[1m1s\u001b[0m 3ms/step - accuracy: 0.0192 - loss: 3.9515 - val_accuracy: 0.0192 - val_loss: 3.9512\n",
            "Epoch 17/20\n",
            "\u001b[1m365/365\u001b[0m \u001b[32m━━━━━━━━━━━━━━━━━━━━\u001b[0m\u001b[37m\u001b[0m \u001b[1m1s\u001b[0m 3ms/step - accuracy: 0.0179 - loss: 3.9514 - val_accuracy: 0.0192 - val_loss: 3.9512\n",
            "Epoch 18/20\n",
            "\u001b[1m365/365\u001b[0m \u001b[32m━━━━━━━━━━━━━━━━━━━━\u001b[0m\u001b[37m\u001b[0m \u001b[1m1s\u001b[0m 3ms/step - accuracy: 0.0187 - loss: 3.9515 - val_accuracy: 0.0192 - val_loss: 3.9512\n",
            "Epoch 19/20\n",
            "\u001b[1m365/365\u001b[0m \u001b[32m━━━━━━━━━━━━━━━━━━━━\u001b[0m\u001b[37m\u001b[0m \u001b[1m1s\u001b[0m 3ms/step - accuracy: 0.0189 - loss: 3.9514 - val_accuracy: 0.0192 - val_loss: 3.9512\n",
            "Epoch 20/20\n",
            "\u001b[1m365/365\u001b[0m \u001b[32m━━━━━━━━━━━━━━━━━━━━\u001b[0m\u001b[37m\u001b[0m \u001b[1m1s\u001b[0m 3ms/step - accuracy: 0.0184 - loss: 3.9514 - val_accuracy: 0.0192 - val_loss: 3.9512\n"
          ]
        }
      ]
    },
    {
      "cell_type": "code",
      "source": [
        "# Train CLDNN\n",
        "cldnn_history = cldnn_model.fit(X_train, y_train_categorical, epochs=20, batch_size=64, validation_data=(X_test, y_test_categorical), verbose=1)"
      ],
      "metadata": {
        "colab": {
          "base_uri": "https://localhost:8080/"
        },
        "id": "oTCV8MpuNg_8",
        "outputId": "21b390cc-af2c-4dc7-c93a-f69d7f8e661e"
      },
      "execution_count": null,
      "outputs": [
        {
          "output_type": "stream",
          "name": "stdout",
          "text": [
            "Epoch 1/20\n",
            "\u001b[1m365/365\u001b[0m \u001b[32m━━━━━━━━━━━━━━━━━━━━\u001b[0m\u001b[37m\u001b[0m \u001b[1m8s\u001b[0m 8ms/step - accuracy: 0.0176 - loss: 3.9600 - val_accuracy: 0.0192 - val_loss: 3.9513\n",
            "Epoch 2/20\n",
            "\u001b[1m365/365\u001b[0m \u001b[32m━━━━━━━━━━━━━━━━━━━━\u001b[0m\u001b[37m\u001b[0m \u001b[1m7s\u001b[0m 8ms/step - accuracy: 0.0178 - loss: 3.9515 - val_accuracy: 0.0192 - val_loss: 3.9512\n",
            "Epoch 3/20\n",
            "\u001b[1m365/365\u001b[0m \u001b[32m━━━━━━━━━━━━━━━━━━━━\u001b[0m\u001b[37m\u001b[0m \u001b[1m5s\u001b[0m 8ms/step - accuracy: 0.0190 - loss: 3.9515 - val_accuracy: 0.0192 - val_loss: 3.9513\n",
            "Epoch 4/20\n",
            "\u001b[1m365/365\u001b[0m \u001b[32m━━━━━━━━━━━━━━━━━━━━\u001b[0m\u001b[37m\u001b[0m \u001b[1m3s\u001b[0m 8ms/step - accuracy: 0.0192 - loss: 3.9514 - val_accuracy: 0.0192 - val_loss: 3.9512\n",
            "Epoch 5/20\n",
            "\u001b[1m365/365\u001b[0m \u001b[32m━━━━━━━━━━━━━━━━━━━━\u001b[0m\u001b[37m\u001b[0m \u001b[1m5s\u001b[0m 9ms/step - accuracy: 0.0183 - loss: 3.9515 - val_accuracy: 0.0192 - val_loss: 3.9512\n",
            "Epoch 6/20\n",
            "\u001b[1m365/365\u001b[0m \u001b[32m━━━━━━━━━━━━━━━━━━━━\u001b[0m\u001b[37m\u001b[0m \u001b[1m3s\u001b[0m 8ms/step - accuracy: 0.0177 - loss: 3.9514 - val_accuracy: 0.0192 - val_loss: 3.9512\n",
            "Epoch 7/20\n",
            "\u001b[1m365/365\u001b[0m \u001b[32m━━━━━━━━━━━━━━━━━━━━\u001b[0m\u001b[37m\u001b[0m \u001b[1m3s\u001b[0m 8ms/step - accuracy: 0.0171 - loss: 3.9515 - val_accuracy: 0.0192 - val_loss: 3.9513\n",
            "Epoch 8/20\n",
            "\u001b[1m365/365\u001b[0m \u001b[32m━━━━━━━━━━━━━━━━━━━━\u001b[0m\u001b[37m\u001b[0m \u001b[1m6s\u001b[0m 10ms/step - accuracy: 0.0171 - loss: 3.9515 - val_accuracy: 0.0192 - val_loss: 3.9512\n",
            "Epoch 9/20\n",
            "\u001b[1m365/365\u001b[0m \u001b[32m━━━━━━━━━━━━━━━━━━━━\u001b[0m\u001b[37m\u001b[0m \u001b[1m4s\u001b[0m 8ms/step - accuracy: 0.0180 - loss: 3.9514 - val_accuracy: 0.0192 - val_loss: 3.9512\n",
            "Epoch 10/20\n",
            "\u001b[1m365/365\u001b[0m \u001b[32m━━━━━━━━━━━━━━━━━━━━\u001b[0m\u001b[37m\u001b[0m \u001b[1m6s\u001b[0m 9ms/step - accuracy: 0.0191 - loss: 3.9514 - val_accuracy: 0.0192 - val_loss: 3.9512\n",
            "Epoch 11/20\n",
            "\u001b[1m365/365\u001b[0m \u001b[32m━━━━━━━━━━━━━━━━━━━━\u001b[0m\u001b[37m\u001b[0m \u001b[1m4s\u001b[0m 10ms/step - accuracy: 0.0179 - loss: 3.9514 - val_accuracy: 0.0192 - val_loss: 3.9512\n",
            "Epoch 12/20\n",
            "\u001b[1m365/365\u001b[0m \u001b[32m━━━━━━━━━━━━━━━━━━━━\u001b[0m\u001b[37m\u001b[0m \u001b[1m3s\u001b[0m 7ms/step - accuracy: 0.0191 - loss: 3.9515 - val_accuracy: 0.0192 - val_loss: 3.9513\n",
            "Epoch 13/20\n",
            "\u001b[1m365/365\u001b[0m \u001b[32m━━━━━━━━━━━━━━━━━━━━\u001b[0m\u001b[37m\u001b[0m \u001b[1m3s\u001b[0m 8ms/step - accuracy: 0.0163 - loss: 3.9515 - val_accuracy: 0.0192 - val_loss: 3.9512\n",
            "Epoch 14/20\n",
            "\u001b[1m365/365\u001b[0m \u001b[32m━━━━━━━━━━━━━━━━━━━━\u001b[0m\u001b[37m\u001b[0m \u001b[1m6s\u001b[0m 10ms/step - accuracy: 0.0178 - loss: 3.9515 - val_accuracy: 0.0192 - val_loss: 3.9513\n",
            "Epoch 15/20\n",
            "\u001b[1m365/365\u001b[0m \u001b[32m━━━━━━━━━━━━━━━━━━━━\u001b[0m\u001b[37m\u001b[0m \u001b[1m3s\u001b[0m 9ms/step - accuracy: 0.0159 - loss: 3.9515 - val_accuracy: 0.0192 - val_loss: 3.9512\n",
            "Epoch 16/20\n",
            "\u001b[1m365/365\u001b[0m \u001b[32m━━━━━━━━━━━━━━━━━━━━\u001b[0m\u001b[37m\u001b[0m \u001b[1m5s\u001b[0m 8ms/step - accuracy: 0.0163 - loss: 3.9514 - val_accuracy: 0.0192 - val_loss: 3.9512\n",
            "Epoch 17/20\n",
            "\u001b[1m365/365\u001b[0m \u001b[32m━━━━━━━━━━━━━━━━━━━━\u001b[0m\u001b[37m\u001b[0m \u001b[1m3s\u001b[0m 7ms/step - accuracy: 0.0178 - loss: 3.9514 - val_accuracy: 0.0192 - val_loss: 3.9512\n",
            "Epoch 18/20\n",
            "\u001b[1m365/365\u001b[0m \u001b[32m━━━━━━━━━━━━━━━━━━━━\u001b[0m\u001b[37m\u001b[0m \u001b[1m4s\u001b[0m 10ms/step - accuracy: 0.0187 - loss: 3.9514 - val_accuracy: 0.0192 - val_loss: 3.9512\n",
            "Epoch 19/20\n",
            "\u001b[1m365/365\u001b[0m \u001b[32m━━━━━━━━━━━━━━━━━━━━\u001b[0m\u001b[37m\u001b[0m \u001b[1m4s\u001b[0m 8ms/step - accuracy: 0.0175 - loss: 3.9515 - val_accuracy: 0.0192 - val_loss: 3.9513\n",
            "Epoch 20/20\n",
            "\u001b[1m365/365\u001b[0m \u001b[32m━━━━━━━━━━━━━━━━━━━━\u001b[0m\u001b[37m\u001b[0m \u001b[1m5s\u001b[0m 8ms/step - accuracy: 0.0169 - loss: 3.9515 - val_accuracy: 0.0192 - val_loss: 3.9512\n"
          ]
        }
      ]
    },
    {
      "cell_type": "code",
      "source": [],
      "metadata": {
        "id": "p7lVi0eyNhdD"
      },
      "execution_count": null,
      "outputs": []
    }
  ]
}